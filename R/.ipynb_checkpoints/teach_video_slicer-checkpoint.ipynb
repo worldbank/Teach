{
 "cells": [
  {
   "cell_type": "markdown",
   "metadata": {},
   "source": [
    "# TEACH Video Clip Creator\n",
    "\n",
    "This program will create 15 minute chunks of videos for the TEACH graders to use to evaluate teacher pedagogical skills.\n",
    "\n",
    "The program will use Python to clip the longer classroom videos into 15 minute chunks."
   ]
  },
  {
   "cell_type": "code",
   "execution_count": null,
   "metadata": {},
   "outputs": [],
   "source": [
    "# Import everything needed to edit video clips\n",
    "from moviepy.editor import *\n",
    "\n",
    "#import tool for dealing with files and paths\n",
    "from pathlib import Path, PureWindowsPath\n",
    "\n",
    "#Allow showing video in python notebook\n",
    "from IPython.display import Video\n",
    "\n",
    "\n",
    "#specify file path\n",
    "data_folder=Path(\"C:/Users/wb469649/WBG/Sergio Venegas Marin - Videos_Peru/\")"
   ]
  },
  {
   "cell_type": "markdown",
   "metadata": {},
   "source": [
    "# Test Case\n",
    "\n",
    "Now I will open a test clip to see how things are working.  This will help us understand how well the program is functioning."
   ]
  },
  {
   "cell_type": "code",
   "execution_count": null,
   "metadata": {},
   "outputs": [],
   "source": [
    "#specify file to open\n",
    "file_to_open = data_folder / 'Ruta 1' / 'Video' / '256305-(1) IE18113 Amazonas .mp4'\n",
    "\n",
    "print(file_to_open)\n",
    "\n"
   ]
  },
  {
   "cell_type": "markdown",
   "metadata": {},
   "source": [
    "Now we will create a subclip between 10 and 10:30 minutes of the video."
   ]
  },
  {
   "cell_type": "code",
   "execution_count": null,
   "metadata": {},
   "outputs": [],
   "source": [
    "#Calculate duration of video\n",
    "vid=VideoFileClip(str(file_to_open))\n",
    "\n",
    "vid_duration=vid.duration\n",
    "print(vid_duration)    \n"
   ]
  },
  {
   "cell_type": "code",
   "execution_count": null,
   "metadata": {},
   "outputs": [],
   "source": [
    "# Load test clip and select the subclip 00:10:00 - 00:10:30\n",
    "clip = vid.subclip('00:10:00','00:10:30')\n",
    "\n",
    "\n",
    "\n",
    "clip.ipython_display(width=280)\n",
    "\n",
    "\n"
   ]
  },
  {
   "cell_type": "markdown",
   "metadata": {},
   "source": [
    "Now we will save the clip to the folder."
   ]
  },
  {
   "cell_type": "code",
   "execution_count": null,
   "metadata": {},
   "outputs": [],
   "source": [
    "\n",
    "\n",
    "#path to saved file\n",
    "file_to_write= data_folder / 'Ruta 1' / 'Video_clips' / '256305-(1) IE18113 Amazonas - Test Clip 1 .mp4'\n",
    "\n",
    "#write the clip\n",
    "clip.write_videofile(str(file_to_write), preset='veryfast', threads=2)\n",
    "\n"
   ]
  },
  {
   "cell_type": "markdown",
   "metadata": {},
   "source": [
    "## Loop through all videos and create clips\n",
    "\n",
    "Now that we have completed a test case, we will loop through all the videos and then create two clips for each video.  One clip will be between 10 and 25 minutes.  The other clip will span from 30 minutes to 45 minutes.  These clips should be checked by hand to report any mistakes or problems. This python code does a nice job of automating the process of creating the clips, but human eyes should verify the quality.\n",
    "\n",
    "Because of the large file sizes and disk space constraints, I have set up the code to run in chunks, based on the enumerator routes (Ruta 1, Ruta 2, Ruta 3, ...)"
   ]
  },
  {
   "cell_type": "code",
   "execution_count": null,
   "metadata": {},
   "outputs": [],
   "source": [
    "# first define the route \"chunk\"\n",
    "chunk = 'Ruta 18'\n",
    "\n",
    "path_to_open = data_folder / chunk / 'Video' \n",
    "path_to_write = data_folder / chunk / 'Video_clips' \n",
    "\n",
    "Path(path_to_write).mkdir(parents=True, exist_ok=True)\n",
    "print(path_to_write)"
   ]
  },
  {
   "cell_type": "code",
   "execution_count": null,
   "metadata": {
    "scrolled": true
   },
   "outputs": [],
   "source": [
    "#get list of all files\n",
    "file_list =[f for f in path_to_open.glob('**/*') if f.is_file() ]\n",
    "\n",
    "for f in file_list:\n",
    "    print(f)\n",
    "    print(f.parts[7])\n",
    "    file_name=str(f.parts[7]) #this is the 7th part of the file route, with just the file name\n",
    "    file_name_base=file_name[:-4]\n",
    "    file_name_new=file_name_base + \"Clip 1 \" + \".MP4\"  \n",
    "    print(file_name_new)\n"
   ]
  },
  {
   "cell_type": "code",
   "execution_count": null,
   "metadata": {
    "scrolled": true
   },
   "outputs": [],
   "source": [
    "for f in file_list:\n",
    "    #come up a new file name called \".. Clip1.MP4\" and \".. Clip2.MP4\"\n",
    "    file_name=str(f.parts[7]) #this is the 7th part of the file route, with just the file name\n",
    "    file_name=str(f.parts[7]) #this is the 7th part of the file route, with just the file name\n",
    "    file_name_base=file_name[:-4]\n",
    "    file_name_suffix=file_name[-4:]\n",
    "    file_name_new1=file_name_base + \"Clip 1\" + file_name_suffix \n",
    "    file_name_new2=file_name_base + \"Clip 2\" + file_name_suffix \n",
    "\n",
    "    print(file_name_new1)\n",
    "    print(file_name_new2)\n",
    "    \n",
    "    #Calculate duration of video\n",
    "    vid=VideoFileClip(str(f))\n",
    "    vid_duration=vid.duration\n",
    "    \n",
    "    #do this if video duration longer than 41 min\n",
    "    if vid_duration>= 2460:\n",
    "        print(\"Video is of sufficient length for two clips\")\n",
    "        #Now cut the clips   \n",
    "        clip1 = vid.subclip('00:10:00','00:25:00')\n",
    "        file_to_write1= data_folder / chunk / 'Video_clips' / file_name_new1\n",
    "    \n",
    "        clip2 = vid.subclip('00:26:00','00:41:00')\n",
    "        file_to_write2= data_folder / chunk / 'Video_clips' / file_name_new2\n",
    "    \n",
    "        #write the clip\n",
    "        clip1.write_videofile(str(file_to_write1), preset='veryfast', threads=200, codec='libx264')\n",
    "        clip2.write_videofile(str(file_to_write2), preset='veryfast', threads=200, codec='libx264',  logger=None)\n",
    "        \n",
    "    #do this if video duration longer than 25 min but less than 41\n",
    "    elif vid_duration>= 1800 and vid_duration< 2460 :\n",
    "        print(\"Video less than 41 minutes but larger than 25 min\")\n",
    "        #Now cut the clips   \n",
    "        clip1 = vid.subclip('00:10:00','00:25:00')\n",
    "        file_to_write1= data_folder / chunk / 'Video_clips' / file_name_new1\n",
    "    \n",
    "        #write the clip\n",
    "        clip1.write_videofile(str(file_to_write1), preset='veryfast', threads=200, codec='libx264')\n",
    "    \n",
    "    else:\n",
    "        print(\"Video of insufficient length\")"
   ]
  }
 ],
 "metadata": {
  "kernelspec": {
   "display_name": "Python 3",
   "language": "python",
   "name": "python3"
  },
  "language_info": {
   "codemirror_mode": {
    "name": "ipython",
    "version": 3
   },
   "file_extension": ".py",
   "mimetype": "text/x-python",
   "name": "python",
   "nbconvert_exporter": "python",
   "pygments_lexer": "ipython3",
   "version": "3.7.3"
  }
 },
 "nbformat": 4,
 "nbformat_minor": 2
}
