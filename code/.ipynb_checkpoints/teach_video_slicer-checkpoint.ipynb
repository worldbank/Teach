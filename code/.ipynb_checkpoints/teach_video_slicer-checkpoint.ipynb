{
 "cells": [
  {
   "cell_type": "markdown",
   "metadata": {},
   "source": [
    "# TEACH Video Clip Creator\n",
    "\n",
    "This program will create 15 minute chunks of videos for the TEACH graders to use to evaluate teacher pedagogical skills.\n",
    "\n",
    "The program will use Python to clip the longer classroom videos into 15 minute chunks."
   ]
  },
  {
   "cell_type": "code",
   "execution_count": 1,
   "metadata": {},
   "outputs": [],
   "source": [
    "# Import everything needed to edit video clips\n",
    "from moviepy.editor import *\n",
    "\n",
    "#import tool for dealing with files and paths\n",
    "from pathlib import Path, PureWindowsPath\n",
    "\n",
    "#Allow showing video in python notebook\n",
    "from IPython.display import Video\n",
    "\n",
    "#inport os.path\n",
    "import os.path\n",
    "\n",
    "#specify file path\n",
    "data_folder=Path(\"C:/Users/Videos/\")\n",
    "save_folder=Path(\"C:/Users/New_Videos/\")\n"
   ]
  },
  {
   "cell_type": "markdown",
   "metadata": {},
   "source": [
    "# Test Case\n",
    "\n",
    "Now I will open a test clip to see how things are working.  This will help us understand how well the program is functioning."
   ]
  },
  {
   "cell_type": "code",
   "execution_count": 5,
   "metadata": {},
   "outputs": [
    {
     "name": "stdout",
     "output_type": "stream",
     "text": [
      "C:\\Users\\Videos\\test.mp4\n"
     ]
    },
    {
     "data": {
      "text/plain": [
       "4"
      ]
     },
     "execution_count": 5,
     "metadata": {},
     "output_type": "execute_result"
    }
   ],
   "source": [
    "#specify file to open\n",
    "file_to_open = data_folder /  'test.mp4'\n",
    "\n",
    "print(file_to_open)\n",
    "\n",
    "len(file_to_open.parts)\n"
   ]
  },
  {
   "cell_type": "markdown",
   "metadata": {},
   "source": [
    "Now we will create a subclip between 10 and 10:30 minutes of the video."
   ]
  },
  {
   "cell_type": "code",
   "execution_count": null,
   "metadata": {},
   "outputs": [],
   "source": [
    "#Calculate duration of video\n",
    "vid=VideoFileClip(str(file_to_open))\n",
    "\n",
    "vid_duration=vid.duration\n",
    "print(vid_duration)    \n"
   ]
  },
  {
   "cell_type": "code",
   "execution_count": null,
   "metadata": {},
   "outputs": [],
   "source": [
    "# Load test clip and select the subclip 00:10:00 - 00:10:30\n",
    "clip = vid.subclip('00:10:00','00:10:30')\n",
    "\n",
    "\n",
    "\n",
    "clip.ipython_display(width=280)\n",
    "\n",
    "\n"
   ]
  },
  {
   "cell_type": "markdown",
   "metadata": {},
   "source": [
    "Now we will save the clip to the folder.  We are set up to save the file to a subfolder called \"Video_clips\" in our save_folder, but this could be changed as needed."
   ]
  },
  {
   "cell_type": "code",
   "execution_count": null,
   "metadata": {},
   "outputs": [],
   "source": [
    "\n",
    "\n",
    "#path to s file\n",
    "file_to_write= save_folder / 'Video_clips' / 'test.mp4'\n",
    "\n",
    "#write the clip\n",
    "clip.write_videofile(str(file_to_write), preset='veryfast', threads=2)\n",
    "\n"
   ]
  },
  {
   "cell_type": "markdown",
   "metadata": {},
   "source": [
    "## Loop through all videos and create clips\n",
    "\n",
    "Now that we have completed a test case, we will loop through all the videos and then create two clips for each video.  One clip will be between 10 and 25 minutes.  The other clip will span from 30 minutes to 45 minutes.  These clips should be checked by hand to report any mistakes or problems. This python code does a nice job of automating the process of creating the clips, but human eyes should verify the quality.\n",
    "\n"
   ]
  },
  {
   "cell_type": "code",
   "execution_count": null,
   "metadata": {
    "scrolled": true
   },
   "outputs": [],
   "source": [
    "#create a list of all video files for which to create clips\n",
    "file_list =[f for f in data_folder.glob('**/*') if f.is_file() ]\n",
    "\n",
    "#loop through this list of files and create the clips\n",
    "for f in file_list:\n",
    "        #come up a new file name called \".. Clip1.MP4\" and \".. Clip2.MP4\"\n",
    "        file_name=str(f.parts[len(f.parts)]) #this is the last part of the file route, with just the file name\n",
    "        file_name=str(f.parts[len(f.parts)]) #this is the last part of the file route, with just the file name\n",
    "        file_name_base=file_name[:-4] #subtract off the \".mp4\" part of the file\n",
    "        file_name_suffix=file_name[-4:] \n",
    "        file_name_new1=file_name_base + \"Clip 1\" + \".MP4\"\n",
    "        file_name_new2=file_name_base + \"Clip 2\" + \".MP4\"\n",
    "\n",
    "        print(file_name_new1)\n",
    "        print(file_name_new2)\n",
    "\n",
    "        #Calculate duration of video\n",
    "        vid=VideoFileClip(str(f))\n",
    "\n",
    "        vid.reader.close()\n",
    "        vid.audio.reader.close_proc()\n",
    "\n",
    "        vid_duration=vid.duration\n",
    "\n",
    "        #do this if video duration longer than 41 min\n",
    "        if vid_duration>= 2340:\n",
    "            print(\"Video is of sufficient length for two clips\")\n",
    "            #Now cut the clips\n",
    "            clip1 = vid.subclip('00:08:00','00:23:00')\n",
    "            file_to_write1= save_folder / 'Video_clips' / file_name_new1\n",
    "\n",
    "            clip2 = vid.subclip('00:24:00','00:39:00')\n",
    "            file_to_write2= save_folder / 'Video_clips' / file_name_new2\n",
    "            if os.path.isfile(str(file_to_write1)):\n",
    "                print (\"File exist\")\n",
    "            else:\n",
    "                print (\"File not exist\")\n",
    "                #write the clip\n",
    "                clip1.write_videofile(str(file_to_write1),   codec='libx264')\n",
    "\n",
    "            if os.path.isfile(str(file_to_write2)):\n",
    "                print (\"File exist\")\n",
    "\n",
    "            else:\n",
    "                print (\"File not exist\")\n",
    "                #write the clip\n",
    "                clip2.write_videofile(str(file_to_write2),  threads=200, codec='libx264',  logger=None)\n",
    "\n",
    "        #do this if video duration longer than 25 min but less than 41\n",
    "        elif vid_duration>= 1800 and vid_duration< 2340 :\n",
    "            print(\"Video less than 41 minutes but larger than 25 min\")\n",
    "            #Now cut the clips\n",
    "            clip1 = vid.subclip('00:08:00','00:23:00')\n",
    "            file_to_write1= save_folder  / 'Video_clips' / file_name_new1\n",
    "\n",
    "            if os.path.isfile(str(file_to_write1)):\n",
    "                print (\"File exist\")\n",
    "            else:\n",
    "                print (\"File not exist\")\n",
    "                #write the clip\n",
    "                clip1.write_videofile(str(file_to_write1),  threads=200, codec='libx264')\n",
    "\n",
    "        else:\n",
    "            print(\"Video of insufficient length\")\n"
   ]
  }
 ],
 "metadata": {
  "kernelspec": {
   "display_name": "Python 3",
   "language": "python",
   "name": "python3"
  },
  "language_info": {
   "codemirror_mode": {
    "name": "ipython",
    "version": 3
   },
   "file_extension": ".py",
   "mimetype": "text/x-python",
   "name": "python",
   "nbconvert_exporter": "python",
   "pygments_lexer": "ipython3",
   "version": "3.7.3"
  }
 },
 "nbformat": 4,
 "nbformat_minor": 2
}
